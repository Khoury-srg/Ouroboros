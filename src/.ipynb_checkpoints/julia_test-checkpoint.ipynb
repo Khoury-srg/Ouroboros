{
 "cells": [
  {
   "cell_type": "code",
   "execution_count": 40,
   "metadata": {},
   "outputs": [],
   "source": [
    "using Revise\n",
    "using NeuralVerification, LazySets"
   ]
  },
  {
   "cell_type": "code",
   "execution_count": 10,
   "metadata": {},
   "outputs": [
    {
     "data": {
      "text/plain": [
       "verify (generic function with 2 methods)"
      ]
     },
     "execution_count": 10,
     "metadata": {},
     "output_type": "execute_result"
    }
   ],
   "source": [
    "function verify(nnet_file, X_spec, Y_spec, max_iter=100)\n",
    "    \n",
    "    net = read_nnet(nnet_file)\n",
    "    \n",
    "    X = HPolytope(X_spec[1], X_spec[2])\n",
    "    Y = HPolytope(Y_spec[1], Y_spec[2])\n",
    "\n",
    "    solver = Neurify(max_iter=max_iter)\n",
    "    prob = Problem(net, X, Y)\n",
    "    res = solve(solver, prob, sampling_size=20)[1]\n",
    "\n",
    "    res.status == :violated && (return \"violated\", res.counter_example)\n",
    "    res.status == :unknown && (return \"unknown\", nothing)\n",
    "\n",
    "    return \"holds\", nothing\n",
    "end"
   ]
  },
  {
   "cell_type": "code",
   "execution_count": 36,
   "metadata": {},
   "outputs": [
    {
     "data": {
      "text/plain": [
       "\"../models/test_tiny.nnet\""
      ]
     },
     "execution_count": 36,
     "metadata": {},
     "output_type": "execute_result"
    }
   ],
   "source": [
    "X_spec = (\n",
    "    hcat([1.,-1.]),\n",
    "    [10., 10.],\n",
    "    )\n",
    "Y_spec = (\n",
    "    hcat([1.,-1.]),\n",
    "    [1., 1.],\n",
    "    )\n",
    "nnet_path = \"../models/test_tiny.nnet\""
   ]
  },
  {
   "cell_type": "code",
   "execution_count": 41,
   "metadata": {},
   "outputs": [
    {
     "name": "stdout",
     "output_type": "stream",
     "text": [
      "solving neurify\n",
      "checking inclusion\n",
      "sampling counterexamples\n"
     ]
    },
    {
     "ename": "LoadError",
     "evalue": "\u001b[91mMethodError: \u001b[0mCannot `convert` an object of type \u001b[92mFloat64\u001b[39m\u001b[0m to an object of type \u001b[91mArray{Float64,1}\u001b[39m\u001b[39m\n\u001b[91m\u001b[0mClosest candidates are:\u001b[39m\n\u001b[91m\u001b[0m  convert(::Type{Array{T,N}}, \u001b[91m::StaticArrays.SizedArray{S,T,N,N,Array{T,N}}\u001b[39m) where {S, T, N} at /home/wth/.julia/packages/StaticArrays/qd9eq/src/SizedArray.jl:120\u001b[39m\n\u001b[91m\u001b[0m  convert(::Type{Array{T,N}}, \u001b[91m::StaticArrays.SizedArray{S,T,N,M,TData} where TData<:AbstractArray{T,M} where M\u001b[39m) where {T, S, N} at /home/wth/.julia/packages/StaticArrays/qd9eq/src/SizedArray.jl:114\u001b[39m\n\u001b[91m\u001b[0m  convert(::Type{T}, \u001b[91m::AbstractArray\u001b[39m) where T<:Array at array.jl:554\u001b[39m\n\u001b[91m\u001b[0m  ...\u001b[39m",
     "output_type": "error",
     "traceback": [
      "\u001b[91mMethodError: \u001b[0mCannot `convert` an object of type \u001b[92mFloat64\u001b[39m\u001b[0m to an object of type \u001b[91mArray{Float64,1}\u001b[39m\u001b[39m\n\u001b[91m\u001b[0mClosest candidates are:\u001b[39m\n\u001b[91m\u001b[0m  convert(::Type{Array{T,N}}, \u001b[91m::StaticArrays.SizedArray{S,T,N,N,Array{T,N}}\u001b[39m) where {S, T, N} at /home/wth/.julia/packages/StaticArrays/qd9eq/src/SizedArray.jl:120\u001b[39m\n\u001b[91m\u001b[0m  convert(::Type{Array{T,N}}, \u001b[91m::StaticArrays.SizedArray{S,T,N,M,TData} where TData<:AbstractArray{T,M} where M\u001b[39m) where {T, S, N} at /home/wth/.julia/packages/StaticArrays/qd9eq/src/SizedArray.jl:114\u001b[39m\n\u001b[91m\u001b[0m  convert(::Type{T}, \u001b[91m::AbstractArray\u001b[39m) where T<:Array at array.jl:554\u001b[39m\n\u001b[91m\u001b[0m  ...\u001b[39m",
      "",
      "Stacktrace:",
      " [1] setindex!(::Array{Array{Float64,1},1}, ::Float64, ::Int64) at ./array.jl:847",
      " [2] _unsafe_copyto!(::Array{Array{Float64,1},1}, ::Int64, ::Array{Any,1}, ::Int64, ::Int64) at ./array.jl:257",
      " [3] unsafe_copyto! at ./array.jl:311 [inlined]",
      " [4] _copyto_impl! at ./array.jl:335 [inlined]",
      " [5] copyto! at ./array.jl:321 [inlined]",
      " [6] copyto! at ./array.jl:347 [inlined]",
      " [7] copyto_axcheck! at ./abstractarray.jl:946 [inlined]",
      " [8] Array at ./array.jl:562 [inlined]",
      " [9] convert at ./array.jl:554 [inlined]",
      " [10] NeuralVerification.CounterExamplesResult(::Symbol, ::Array{Any,1}) at /home/wth/dev/NeuralVerification.jl/src/utils/problem.jl:139",
      " [11] check_inclusion(::Neurify, ::Network, ::NeuralVerification.SymbolicInterval{HPolytope{Float64,Array{Float64,1}}}, ::HPolytope{Float64,Array{Float64,1}}; sampling_size::Int64) at /home/wth/dev/NeuralVerification.jl/src/adversarial/neurify.jl:150",
      " [12] solve(::Neurify, ::Problem{HPolytope{Float64,Array{Float64,1}},HPolytope{Float64,Array{Float64,1}}}; sampling_size::Int64) at /home/wth/dev/NeuralVerification.jl/src/adversarial/neurify.jl:98",
      " [13] verify at ./In[10]:10 [inlined]",
      " [14] verify(::String, ::Tuple{Array{Float64,2},Array{Float64,1}}, ::Tuple{Array{Float64,2},Array{Float64,1}}) at ./In[10]:3",
      " [15] top-level scope at In[41]:1",
      " [16] include_string(::Function, ::Module, ::String, ::String) at ./loading.jl:1091"
     ]
    }
   ],
   "source": [
    "verify(nnet_path, X_spec, Y_spec)"
   ]
  },
  {
   "cell_type": "code",
   "execution_count": null,
   "metadata": {},
   "outputs": [],
   "source": []
  }
 ],
 "metadata": {
  "kernelspec": {
   "display_name": "Julia 1.5.3",
   "language": "julia",
   "name": "julia-1.5"
  },
  "language_info": {
   "file_extension": ".jl",
   "mimetype": "application/julia",
   "name": "julia",
   "version": "1.5.3"
  }
 },
 "nbformat": 4,
 "nbformat_minor": 4
}
