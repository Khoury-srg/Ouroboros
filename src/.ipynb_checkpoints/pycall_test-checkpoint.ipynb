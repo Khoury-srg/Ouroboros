{
 "cells": [
  {
   "cell_type": "code",
   "execution_count": 1,
   "metadata": {
    "scrolled": true
   },
   "outputs": [
    {
     "name": "stderr",
     "output_type": "stream",
     "text": [
      "\u001b[32m\u001b[1m   Updating\u001b[22m\u001b[39m registry at `~/.julia/registries/General`\n"
     ]
    },
    {
     "name": "stdout",
     "output_type": "stream",
     "text": [
      "\u001b[?25l    "
     ]
    },
    {
     "name": "stderr",
     "output_type": "stream",
     "text": [
      "\u001b[32m\u001b[1m   Updating\u001b[22m\u001b[39m git-repo `https://github.com/JuliaRegistries/General.git`\n"
     ]
    },
    {
     "name": "stdout",
     "output_type": "stream",
     "text": [
      "\u001b[2K\u001b[?25h[1mFetching:\u001b[22m\u001b[39m [========================================>]  100.0 %[36m\u001b[1mFetching:\u001b[22m\u001b[39m [=====>                                   ]  10.7 %\u001b[36m\u001b[1mFetching:\u001b[22m\u001b[39m [======>                                  ]  13.6 %\u001b[36m\u001b[1mFetching:\u001b[22m\u001b[39m [========>                                ]  17.9 %\u001b[36m\u001b[1mFetching:\u001b[22m\u001b[39m [===============>                         ]  37.0 %=======================>                 ]  55.2 %]  67.4 %\u001b[36m\u001b[1mFetching:\u001b[22m\u001b[39m [==============================>          ]  72.9 %\u001b[36m\u001b[1mFetching:\u001b[22m\u001b[39m [===============================>         ]  76.1 %\u001b[36m\u001b[1mFetching:\u001b[22m\u001b[39m [================================>        ]  78.7 %\u001b[36m\u001b[1mFetching:\u001b[22m\u001b[39m [=======================================> ]  95.1 %\u001b[36m\u001b[1mFetching:\u001b[22m\u001b[39m [=======================================> ]  95.5 %\u001b[36m\u001b[1mFetching:\u001b[22m\u001b[39m [=======================================> ]  96.5 %"
     ]
    },
    {
     "name": "stderr",
     "output_type": "stream",
     "text": [
      "\u001b[32m\u001b[1m  Resolving\u001b[22m\u001b[39m package versions...\n",
      "\u001b[32m\u001b[1mUpdating\u001b[22m\u001b[39m `~/.julia/environments/v1.5/Project.toml`\n",
      " \u001b[90m [8f4d0f93] \u001b[39m\u001b[92m+ Conda v1.5.2\u001b[39m\n",
      "\u001b[32m\u001b[1mNo Changes\u001b[22m\u001b[39m to `~/.julia/environments/v1.5/Manifest.toml`\n",
      "┌ Info: Downloading miniconda installer ...\n",
      "└ @ Conda /home/wth/.julia/packages/Conda/sNGum/src/Conda.jl:192\n"
     ]
    },
    {
     "name": "stdout",
     "output_type": "stream",
     "text": [
      "PREFIX=/home/wth/.julia/conda/3\n"
     ]
    },
    {
     "name": "stderr",
     "output_type": "stream",
     "text": [
      "┌ Info: Installing miniconda ...\n",
      "└ @ Conda /home/wth/.julia/packages/Conda/sNGum/src/Conda.jl:202\n"
     ]
    },
    {
     "name": "stdout",
     "output_type": "stream",
     "text": [
      "Unpacking payload ...\n"
     ]
    },
    {
     "name": "stderr",
     "output_type": "stream",
     "text": [
      "                                                                               \r"
     ]
    },
    {
     "name": "stdout",
     "output_type": "stream",
     "text": [
      "Collecting package metadata (current_repodata.json): ...working... done\n",
      "Solving environment: ...working... done\n",
      "\n",
      "## Package Plan ##\n",
      "\n",
      "  environment location: /home/wth/.julia/conda/3\n",
      "\n",
      "  added / updated specs:\n",
      "    - _libgcc_mutex==0.1=main\n",
      "    - _openmp_mutex==4.5=1_gnu\n",
      "    - brotlipy==0.7.0=py39h27cfd23_1003\n",
      "    - ca-certificates==2021.7.5=h06a4308_1\n",
      "    - certifi==2021.5.30=py39h06a4308_0\n",
      "    - cffi==1.14.6=py39h400218f_0\n",
      "    - chardet==4.0.0=py39h06a4308_1003\n",
      "    - conda-package-handling==1.7.3=py39h27cfd23_1\n",
      "    - conda==4.10.3=py39h06a4308_0\n",
      "    - cryptography==3.4.7=py39hd23ed53_0\n",
      "    - idna==2.10=pyhd3eb1b0_0\n",
      "    - ld_impl_linux-64==2.35.1=h7274673_9\n",
      "    - libffi==3.3=he6710b0_2\n",
      "    - libgcc-ng==9.3.0=h5101ec6_17\n",
      "    - libgomp==9.3.0=h5101ec6_17\n",
      "    - libstdcxx-ng==9.3.0=hd4cf53a_17\n",
      "    - ncurses==6.2=he6710b0_1\n",
      "    - openssl==1.1.1k=h27cfd23_0\n",
      "    - pip==21.1.3=py39h06a4308_0\n",
      "    - pycosat==0.6.3=py39h27cfd23_0\n",
      "    - pycparser==2.20=py_2\n",
      "    - pyopenssl==20.0.1=pyhd3eb1b0_1\n",
      "    - pysocks==1.7.1=py39h06a4308_0\n",
      "    - python==3.9.5=h12debd9_4\n",
      "    - readline==8.1=h27cfd23_0\n",
      "    - requests==2.25.1=pyhd3eb1b0_0\n",
      "    - ruamel_yaml==0.15.100=py39h27cfd23_0\n",
      "    - setuptools==52.0.0=py39h06a4308_0\n",
      "    - six==1.16.0=pyhd3eb1b0_0\n",
      "    - sqlite==3.36.0=hc218d9a_0\n",
      "    - tk==8.6.10=hbc83047_0\n",
      "    - tqdm==4.61.2=pyhd3eb1b0_1\n",
      "    - tzdata==2021a=h52ac0ba_0\n",
      "    - urllib3==1.26.6=pyhd3eb1b0_1\n",
      "    - wheel==0.36.2=pyhd3eb1b0_0\n",
      "    - xz==5.2.5=h7b6447c_0\n",
      "    - yaml==0.2.5=h7b6447c_0\n",
      "    - zlib==1.2.11=h7b6447c_3\n",
      "\n",
      "\n",
      "The following NEW packages will be INSTALLED:\n",
      "\n",
      "  _libgcc_mutex      pkgs/main/linux-64::_libgcc_mutex-0.1-main\n",
      "  _openmp_mutex      pkgs/main/linux-64::_openmp_mutex-4.5-1_gnu\n",
      "  brotlipy           pkgs/main/linux-64::brotlipy-0.7.0-py39h27cfd23_1003\n",
      "  ca-certificates    pkgs/main/linux-64::ca-certificates-2021.7.5-h06a4308_1\n",
      "  certifi            pkgs/main/linux-64::certifi-2021.5.30-py39h06a4308_0\n",
      "  cffi               pkgs/main/linux-64::cffi-1.14.6-py39h400218f_0\n",
      "  chardet            pkgs/main/linux-64::chardet-4.0.0-py39h06a4308_1003\n",
      "  conda              pkgs/main/linux-64::conda-4.10.3-py39h06a4308_0\n",
      "  conda-package-han~ pkgs/main/linux-64::conda-package-handling-1.7.3-py39h27cfd23_1\n",
      "  cryptography       pkgs/main/linux-64::cryptography-3.4.7-py39hd23ed53_0\n",
      "  idna               pkgs/main/noarch::idna-2.10-pyhd3eb1b0_0\n",
      "  ld_impl_linux-64   pkgs/main/linux-64::ld_impl_linux-64-2.35.1-h7274673_9\n",
      "  libffi             pkgs/main/linux-64::libffi-3.3-he6710b0_2\n",
      "  libgcc-ng          pkgs/main/linux-64::libgcc-ng-9.3.0-h5101ec6_17\n",
      "  libgomp            pkgs/main/linux-64::libgomp-9.3.0-h5101ec6_17\n",
      "  libstdcxx-ng       pkgs/main/linux-64::libstdcxx-ng-9.3.0-hd4cf53a_17\n",
      "  ncurses            pkgs/main/linux-64::ncurses-6.2-he6710b0_1\n",
      "  openssl            pkgs/main/linux-64::openssl-1.1.1k-h27cfd23_0\n",
      "  pip                pkgs/main/linux-64::pip-21.1.3-py39h06a4308_0\n",
      "  pycosat            pkgs/main/linux-64::pycosat-0.6.3-py39h27cfd23_0\n",
      "  pycparser          pkgs/main/noarch::pycparser-2.20-py_2\n",
      "  pyopenssl          pkgs/main/noarch::pyopenssl-20.0.1-pyhd3eb1b0_1\n",
      "  pysocks            pkgs/main/linux-64::pysocks-1.7.1-py39h06a4308_0\n",
      "  python             pkgs/main/linux-64::python-3.9.5-h12debd9_4\n",
      "  readline           pkgs/main/linux-64::readline-8.1-h27cfd23_0\n",
      "  requests           pkgs/main/noarch::requests-2.25.1-pyhd3eb1b0_0\n",
      "  ruamel_yaml        pkgs/main/linux-64::ruamel_yaml-0.15.100-py39h27cfd23_0\n",
      "  setuptools         pkgs/main/linux-64::setuptools-52.0.0-py39h06a4308_0\n",
      "  six                pkgs/main/noarch::six-1.16.0-pyhd3eb1b0_0\n",
      "  sqlite             pkgs/main/linux-64::sqlite-3.36.0-hc218d9a_0\n",
      "  tk                 pkgs/main/linux-64::tk-8.6.10-hbc83047_0\n",
      "  tqdm               pkgs/main/noarch::tqdm-4.61.2-pyhd3eb1b0_1\n",
      "  tzdata             pkgs/main/noarch::tzdata-2021a-h52ac0ba_0\n",
      "  urllib3            pkgs/main/noarch::urllib3-1.26.6-pyhd3eb1b0_1\n",
      "  wheel              pkgs/main/noarch::wheel-0.36.2-pyhd3eb1b0_0\n",
      "  xz                 pkgs/main/linux-64::xz-5.2.5-h7b6447c_0\n",
      "  yaml               pkgs/main/linux-64::yaml-0.2.5-h7b6447c_0\n",
      "  zlib               pkgs/main/linux-64::zlib-1.2.11-h7b6447c_3\n",
      "\n",
      "\n",
      "Preparing transaction: ...working... done\n",
      "Executing transaction: ...working... done\n",
      "installation finished.\n",
      "WARNING:\n",
      "    You currently have a PYTHONPATH environment variable set. This may cause\n",
      "    unexpected behavior when running the Python interpreter in Miniconda3.\n",
      "    For best results, please verify that your PYTHONPATH only points to\n",
      "    directories of packages that are compatible with the Python interpreter\n",
      "    in Miniconda3: /home/wth/.julia/conda/3\n"
     ]
    },
    {
     "name": "stderr",
     "output_type": "stream",
     "text": [
      "┌ Info: Running `conda install -y numpy` in root environment\n",
      "└ @ Conda /home/wth/.julia/packages/Conda/sNGum/src/Conda.jl:128\n"
     ]
    },
    {
     "name": "stdout",
     "output_type": "stream",
     "text": [
      "Collecting package metadata (current_repodata.json): ...working... done\n",
      "Solving environment: ...working... done\n",
      "\n",
      "## Package Plan ##\n",
      "\n",
      "  environment location: /home/wth/.julia/conda/3\n",
      "\n",
      "  added / updated specs:\n",
      "    - numpy\n",
      "\n",
      "\n",
      "The following packages will be downloaded:\n",
      "\n",
      "    package                    |            build\n",
      "    ---------------------------|-----------------\n",
      "    blas-1.0                   |              mkl           6 KB\n",
      "    ca-certificates-2021.10.26 |       h06a4308_2         115 KB\n",
      "    certifi-2021.10.8          |   py39h06a4308_0         151 KB\n",
      "    intel-openmp-2021.3.0      |    h06a4308_3350         1.4 MB\n",
      "    mkl-2021.3.0               |     h06a4308_520       141.2 MB\n",
      "    mkl-service-2.4.0          |   py39h7f8727e_0          59 KB\n",
      "    mkl_fft-1.3.1              |   py39hd3c417c_0         182 KB\n",
      "    mkl_random-1.2.2           |   py39h51133e4_0         309 KB\n",
      "    numpy-1.21.2               |   py39h20f2e39_0          23 KB\n",
      "    numpy-base-1.21.2          |   py39h79a1101_0         4.9 MB\n",
      "    openssl-1.1.1l             |       h7f8727e_0         2.5 MB\n",
      "    ------------------------------------------------------------\n",
      "                                           Total:       150.8 MB\n",
      "\n",
      "The following NEW packages will be INSTALLED:\n",
      "\n",
      "  blas               pkgs/main/linux-64::blas-1.0-mkl\n",
      "  intel-openmp       pkgs/main/linux-64::intel-openmp-2021.3.0-h06a4308_3350\n",
      "  mkl                pkgs/main/linux-64::mkl-2021.3.0-h06a4308_520\n",
      "  mkl-service        pkgs/main/linux-64::mkl-service-2.4.0-py39h7f8727e_0\n",
      "  mkl_fft            pkgs/main/linux-64::mkl_fft-1.3.1-py39hd3c417c_0\n",
      "  mkl_random         pkgs/main/linux-64::mkl_random-1.2.2-py39h51133e4_0\n",
      "  numpy              pkgs/main/linux-64::numpy-1.21.2-py39h20f2e39_0\n",
      "  numpy-base         pkgs/main/linux-64::numpy-base-1.21.2-py39h79a1101_0\n",
      "\n",
      "The following packages will be UPDATED:\n",
      "\n",
      "  ca-certificates                       2021.7.5-h06a4308_1 --> 2021.10.26-h06a4308_2\n",
      "  certifi                          2021.5.30-py39h06a4308_0 --> 2021.10.8-py39h06a4308_0\n",
      "  openssl                                 1.1.1k-h27cfd23_0 --> 1.1.1l-h7f8727e_0\n",
      "\n",
      "\n",
      "\n",
      "Downloading and Extracting Packages\n",
      "mkl-2021.3.0         | 141.2 MB  | #################################### | 100% \n",
      "intel-openmp-2021.3. | 1.4 MB    | #################################### | 100% \n",
      "mkl-service-2.4.0    | 59 KB     | #################################### | 100% \n",
      "ca-certificates-2021 | 115 KB    | #################################### | 100% \n",
      "certifi-2021.10.8    | 151 KB    | #################################### | 100% \n",
      "mkl_fft-1.3.1        | 182 KB    | #################################### | 100% \n",
      "openssl-1.1.1l       | 2.5 MB    | #################################### | 100% \n",
      "mkl_random-1.2.2     | 309 KB    | #################################### | 100% \n",
      "numpy-1.21.2         | 23 KB     | #################################### | 100% \n",
      "blas-1.0             | 6 KB      | #################################### | 100% \n",
      "numpy-base-1.21.2    | 4.9 MB    | #################################### | 100% \n",
      "Preparing transaction: ...working... done\n",
      "Verifying transaction: ...working... done\n",
      "Executing transaction: ...working... done\n"
     ]
    },
    {
     "name": "stderr",
     "output_type": "stream",
     "text": [
      "┌ Info: Running `conda install -y pytorch` in root environment\n",
      "└ @ Conda /home/wth/.julia/packages/Conda/sNGum/src/Conda.jl:128\n"
     ]
    },
    {
     "name": "stdout",
     "output_type": "stream",
     "text": [
      "Collecting package metadata (current_repodata.json): ...working... done\n",
      "Solving environment: ...working... done\n",
      "\n",
      "## Package Plan ##\n",
      "\n",
      "  environment location: /home/wth/.julia/conda/3\n",
      "\n",
      "  added / updated specs:\n",
      "    - pytorch\n",
      "\n",
      "\n",
      "The following packages will be downloaded:\n",
      "\n",
      "    package                    |            build\n",
      "    ---------------------------|-----------------\n",
      "    _libgcc_mutex-0.1          |      conda_forge           3 KB  conda-forge\n",
      "    _openmp_mutex-4.5          |           1_llvm           5 KB  conda-forge\n",
      "    future-0.18.2              |   py39h06a4308_1         632 KB\n",
      "    libblas-3.9.0              |   11_linux64_mkl          12 KB  conda-forge\n",
      "    libgcc-ng-11.2.0           |      h1d223b6_11         887 KB  conda-forge\n",
      "    libprotobuf-3.18.1         |       h780b84a_0         2.6 MB  conda-forge\n",
      "    libstdcxx-ng-11.2.0        |      he4da1e4_11         4.2 MB  conda-forge\n",
      "    libzlib-1.2.11             |    h36c2ea0_1013          59 KB  conda-forge\n",
      "    llvm-openmp-12.0.1         |       h4bd325d_1         2.8 MB  conda-forge\n",
      "    ninja-1.10.2               |       hff7bd54_1         1.4 MB\n",
      "    python_abi-3.9             |           2_cp39           4 KB  conda-forge\n",
      "    pytorch-1.9.1              |cpu_py39hc5866cc_3        45.2 MB  conda-forge\n",
      "    sleef-3.5.1                |       h9b69904_2         1.5 MB  conda-forge\n",
      "    typing_extensions-3.10.0.2 |     pyh06a4308_0          31 KB\n",
      "    zlib-1.2.11                |    h36c2ea0_1013          86 KB  conda-forge\n",
      "    ------------------------------------------------------------\n",
      "                                           Total:        59.4 MB\n",
      "\n",
      "The following NEW packages will be INSTALLED:\n",
      "\n",
      "  future             pkgs/main/linux-64::future-0.18.2-py39h06a4308_1\n",
      "  libblas            conda-forge/linux-64::libblas-3.9.0-11_linux64_mkl\n",
      "  libprotobuf        conda-forge/linux-64::libprotobuf-3.18.1-h780b84a_0\n",
      "  libzlib            conda-forge/linux-64::libzlib-1.2.11-h36c2ea0_1013\n",
      "  llvm-openmp        conda-forge/linux-64::llvm-openmp-12.0.1-h4bd325d_1\n",
      "  ninja              pkgs/main/linux-64::ninja-1.10.2-hff7bd54_1\n",
      "  python_abi         conda-forge/linux-64::python_abi-3.9-2_cp39\n",
      "  pytorch            conda-forge/linux-64::pytorch-1.9.1-cpu_py39hc5866cc_3\n",
      "  sleef              conda-forge/linux-64::sleef-3.5.1-h9b69904_2\n",
      "  typing_extensions  pkgs/main/noarch::typing_extensions-3.10.0.2-pyh06a4308_0\n",
      "\n",
      "The following packages will be REMOVED:\n",
      "\n",
      "  libgomp-9.3.0-h5101ec6_17\n",
      "\n",
      "The following packages will be UPDATED:\n",
      "\n",
      "  libgcc-ng          pkgs/main::libgcc-ng-9.3.0-h5101ec6_17 --> conda-forge::libgcc-ng-11.2.0-h1d223b6_11\n",
      "  libstdcxx-ng       pkgs/main::libstdcxx-ng-9.3.0-hd4cf53~ --> conda-forge::libstdcxx-ng-11.2.0-he4da1e4_11\n",
      "  zlib                    pkgs/main::zlib-1.2.11-h7b6447c_3 --> conda-forge::zlib-1.2.11-h36c2ea0_1013\n",
      "\n",
      "The following packages will be SUPERSEDED by a higher-priority channel:\n",
      "\n",
      "  _libgcc_mutex           pkgs/main::_libgcc_mutex-0.1-main --> conda-forge::_libgcc_mutex-0.1-conda_forge\n",
      "  _openmp_mutex          pkgs/main::_openmp_mutex-4.5-1_gnu --> conda-forge::_openmp_mutex-4.5-1_llvm\n",
      "\n",
      "\n",
      "\n",
      "Downloading and Extracting Packages\n",
      "libblas-3.9.0        | 12 KB     | #################################### | 100% \n",
      "ninja-1.10.2         | 1.4 MB    | #################################### | 100% \n",
      "libprotobuf-3.18.1   | 2.6 MB    | #################################### | 100% \n",
      "future-0.18.2        | 632 KB    | #################################### | 100% \n",
      "python_abi-3.9       | 4 KB      | #################################### | 100% \n",
      "libstdcxx-ng-11.2.0  | 4.2 MB    | #################################### | 100% \n",
      "sleef-3.5.1          | 1.5 MB    | #################################### | 100% \n",
      "pytorch-1.9.1        | 45.2 MB   | #################################### | 100% \n",
      "_libgcc_mutex-0.1    | 3 KB      | #################################### | 100% \n",
      "libgcc-ng-11.2.0     | 887 KB    | #################################### | 100% \n",
      "llvm-openmp-12.0.1   | 2.8 MB    | #################################### | 100% \n",
      "typing_extensions-3. | 31 KB     | #################################### | 100% \n",
      "zlib-1.2.11          | 86 KB     | #################################### | 100% \n",
      "_openmp_mutex-4.5    | 5 KB      | #################################### | 100% \n",
      "libzlib-1.2.11       | 59 KB     | #################################### | 100% \n",
      "Preparing transaction: ...working... done\n",
      "Verifying transaction: ...working... done\n",
      "Executing transaction: ...working... done\n"
     ]
    }
   ],
   "source": [
    "using Pkg; Pkg.add([\"Conda\", \"PyCall\"])\n",
    "using PyCall\n",
    "using Conda\n",
    "Conda.add(\"numpy\")\n",
    "Conda.add(\"pytorch\")"
   ]
  },
  {
   "cell_type": "code",
   "execution_count": null,
   "metadata": {},
   "outputs": [],
   "source": [
    "np = pyimport(\"numpy\")"
   ]
  },
  {
   "cell_type": "code",
   "execution_count": null,
   "metadata": {},
   "outputs": [],
   "source": [
    "torch = pyimport(\"torch\")"
   ]
  },
  {
   "cell_type": "code",
   "execution_count": null,
   "metadata": {},
   "outputs": [],
   "source": []
  }
 ],
 "metadata": {
  "kernelspec": {
   "display_name": "Julia 1.5.3",
   "language": "julia",
   "name": "julia-1.5"
  },
  "language_info": {
   "file_extension": ".jl",
   "mimetype": "application/julia",
   "name": "julia",
   "version": "1.5.3"
  }
 },
 "nbformat": 4,
 "nbformat_minor": 5
}
